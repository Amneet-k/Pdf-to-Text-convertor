{
 "cells": [
  {
   "cell_type": "code",
   "execution_count": 36,
   "id": "6a9983f0-87da-40ac-882c-db3ac6bb0525",
   "metadata": {},
   "outputs": [],
   "source": [
    "import tkinter as tk\n",
    "import PyPDF2\n",
    "from tkinter import filedialog"
   ]
  },
  {
   "cell_type": "code",
   "execution_count": 38,
   "id": "b4ff5d01-8cef-4c52-9cbd-99ec18662679",
   "metadata": {},
   "outputs": [],
   "source": [
    "root = tk.Tk()\n",
    "root.title(\"PDF Text Extractor\")\n",
    "#root.geometry(\"400x400\")\n",
    "\n",
    "def openfile():\n",
    "    filename= filedialog.askopenfilename(title=\"Open PDF file\",\n",
    "                                        initialdir = r\"C:\\Users\\hp\\AppData\\Local\\Programs\\Python\\Python312\\Scripts\\python_novem\\pdf_text_extractor.ipynb\",\n",
    "                                        filetypes=[('PDF Files','*pdf')])\n",
    "\n",
    "\n",
    "    filename_label.configure(text=filename)\n",
    "    outputfile_text.delete(\"1.0\",tk.END)\n",
    "    reader=PyPDF2.PdfReader(filename)\n",
    "    for i in range (len(reader.pages)):\n",
    "        current_text= reader.pages[i].extract_text()\n",
    "        outputfile_text.insert(tk.END,current_text)\n",
    "    \n",
    "\n",
    "filename_label = tk.Label(root,text=\"No File Selected\") \n",
    "outputfile_text = tk.Text(root)\n",
    "openfile_button = tk.Button(root,text=\"Open PDF File\",command = openfile)\n",
    "\n",
    " \n",
    "filename_label.pack()\n",
    "outputfile_text.pack()\n",
    "openfile_button.pack() \n",
    "\n",
    "root.mainloop()"
   ]
  },
  {
   "cell_type": "code",
   "execution_count": null,
   "id": "960a3b28-e14d-440b-a892-5cbfa1ad0fbe",
   "metadata": {},
   "outputs": [],
   "source": []
  },
  {
   "cell_type": "code",
   "execution_count": null,
   "id": "66bb7147-29e4-44f4-bd98-80aa371aa006",
   "metadata": {},
   "outputs": [],
   "source": []
  },
  {
   "cell_type": "code",
   "execution_count": null,
   "id": "4347ba50-0811-4a25-898d-78a715833311",
   "metadata": {},
   "outputs": [],
   "source": []
  },
  {
   "cell_type": "code",
   "execution_count": null,
   "id": "3902eecd-aaac-4d40-8821-c6d9d4df7c14",
   "metadata": {},
   "outputs": [],
   "source": []
  },
  {
   "cell_type": "code",
   "execution_count": null,
   "id": "7f416c96-b5c2-45f6-a741-9d15632b1d41",
   "metadata": {},
   "outputs": [],
   "source": []
  },
  {
   "cell_type": "code",
   "execution_count": null,
   "id": "4c5253ec-ce83-4d20-b9d2-9bc1fe1719e6",
   "metadata": {},
   "outputs": [],
   "source": []
  }
 ],
 "metadata": {
  "kernelspec": {
   "display_name": "Python 3 (ipykernel)",
   "language": "python",
   "name": "python3"
  },
  "language_info": {
   "codemirror_mode": {
    "name": "ipython",
    "version": 3
   },
   "file_extension": ".py",
   "mimetype": "text/x-python",
   "name": "python",
   "nbconvert_exporter": "python",
   "pygments_lexer": "ipython3",
   "version": "3.12.8"
  }
 },
 "nbformat": 4,
 "nbformat_minor": 5
}
